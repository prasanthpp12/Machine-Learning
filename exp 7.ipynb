{
  "nbformat": 4,
  "nbformat_minor": 0,
  "metadata": {
    "colab": {
      "provenance": []
    },
    "kernelspec": {
      "name": "python3",
      "display_name": "Python 3"
    },
    "language_info": {
      "name": "python"
    }
  },
  "cells": [
    {
      "cell_type": "code",
      "execution_count": 7,
      "metadata": {
        "colab": {
          "base_uri": "https://localhost:8080/"
        },
        "id": "Gt8wwFVCakVI",
        "outputId": "7c46014c-2f48-4955-b033-3787e1dc6f3d"
      },
      "outputs": [
        {
          "output_type": "stream",
          "name": "stdout",
          "text": [
            "Epoch 100/1000, MSE: 0.0008\n",
            "Epoch 200/1000, MSE: 0.0003\n",
            "Epoch 300/1000, MSE: 0.0002\n",
            "Epoch 400/1000, MSE: 0.0001\n",
            "Epoch 500/1000, MSE: 0.0001\n",
            "Epoch 600/1000, MSE: 0.0001\n",
            "Epoch 700/1000, MSE: 0.0001\n",
            "Epoch 800/1000, MSE: 0.0001\n",
            "Epoch 900/1000, MSE: 0.0001\n",
            "Epoch 1000/1000, MSE: 0.0001\n",
            "\n",
            "Sample Predictions:\n",
            "[[0.98375221]\n",
            " [0.98831476]\n",
            " [0.00353604]\n",
            " [0.00524587]\n",
            " [0.00459507]]\n"
          ]
        }
      ],
      "source": [
        "import numpy as np\n",
        "import pandas as pd\n",
        "\n",
        "class NeuralNetwork:\n",
        "    def __init__(self, input_size, hidden_size, output_size, learning_rate): # Corrected constructor name to __init__\n",
        "        self.input_size = input_size\n",
        "        self.hidden_size = hidden_size\n",
        "        self.output_size = output_size\n",
        "        self.learning_rate = learning_rate\n",
        "        self.weights_input_hidden = np.random.randn(self.input_size, self.hidden_size)\n",
        "        self.bias_hidden = np.zeros((1, self.hidden_size))\n",
        "        self.weights_hidden_output = np.random.randn(self.hidden_size, self.output_size)\n",
        "        self.bias_output = np.zeros((1, self.output_size))\n",
        "\n",
        "    def sigmoid(self, x):\n",
        "        return 1 / (1 + np.exp(-x))\n",
        "\n",
        "    def sigmoid_derivative(self, x):\n",
        "        return x * (1 - x)\n",
        "\n",
        "    def forward(self, inputs):\n",
        "        self.hidden_layer_input = np.dot(inputs, self.weights_input_hidden) + self.bias_hidden\n",
        "        self.hidden_layer_output = self.sigmoid(self.hidden_layer_input)\n",
        "        self.output_layer_input = np.dot(self.hidden_layer_output, self.weights_hidden_output) + self.bias_output\n",
        "        return self.sigmoid(self.output_layer_input)\n",
        "\n",
        "    def backward(self, inputs, targets, predicted_output):\n",
        "        error = targets - predicted_output\n",
        "        output_delta = error * self.sigmoid_derivative(predicted_output)\n",
        "        hidden_layer_error = output_delta.dot(self.weights_hidden_output.T)\n",
        "        hidden_layer_delta = hidden_layer_error * self.sigmoid_derivative(self.hidden_layer_output)\n",
        "        self.weights_hidden_output += self.hidden_layer_output.T.dot(output_delta) * self.learning_rate\n",
        "        self.bias_output += np.sum(output_delta, axis=0, keepdims=True) * self.learning_rate\n",
        "        self.weights_input_hidden += inputs.T.dot(hidden_layer_delta) * self.learning_rate\n",
        "        self.bias_hidden += np.sum(hidden_layer_delta, axis=0, keepdims=True) * self.learning_rate\n",
        "\n",
        "    def train(self, inputs, targets, epochs):\n",
        "        for epoch in range(epochs):\n",
        "            for input_data, target in zip(inputs, targets):\n",
        "                input_data = np.array([input_data])\n",
        "                target = np.array([target])\n",
        "                predicted_output = self.forward(input_data)\n",
        "                self.backward(input_data, target, predicted_output)\n",
        "            if (epoch + 1) % 100 == 0:\n",
        "                mse = np.mean((targets - self.predict(inputs))**2)\n",
        "                print(f'Epoch {epoch+1}/{epochs}, MSE: {mse:.4f}')\n",
        "\n",
        "    def predict(self, inputs):\n",
        "        return self.forward(inputs)\n",
        "\n",
        "df = pd.read_csv('/content/Mall_Customers.csv')\n",
        "df = pd.get_dummies(df)\n",
        "data = df.values.astype(float)\n",
        "X = data[:, :-1]\n",
        "y = data[:, -1:]\n",
        "X = X / X.max(axis=0)\n",
        "nn = NeuralNetwork(input_size=X.shape[1], hidden_size=4, output_size=1, learning_rate=0.1)\n",
        "nn.train(X, y, epochs=1000) # Changed n to nn\n",
        "predictions = nn.predict(X)[:5]\n",
        "print(\"\\nSample Predictions:\")\n",
        "print(predictions)"
      ]
    }
  ]
}