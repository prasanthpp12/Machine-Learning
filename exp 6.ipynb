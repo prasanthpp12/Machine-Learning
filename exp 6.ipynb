{
  "nbformat": 4,
  "nbformat_minor": 0,
  "metadata": {
    "colab": {
      "provenance": []
    },
    "kernelspec": {
      "name": "python3",
      "display_name": "Python 3"
    },
    "language_info": {
      "name": "python"
    }
  },
  "cells": [
    {
      "cell_type": "code",
      "execution_count": 4,
      "metadata": {
        "colab": {
          "base_uri": "https://localhost:8080/"
        },
        "id": "Gt8wwFVCakVI",
        "outputId": "494060cc-7c17-44ef-bd2c-fac085fa9deb"
      },
      "outputs": [
        {
          "output_type": "stream",
          "name": "stdout",
          "text": [
            "Original DataFrame:\n",
            "            City  Temperature Rain\n",
            "0       New York           32  Yes\n",
            "1  San Francisco           70   No\n",
            "2        Chicago           65   No\n",
            "3       New York           32  Yes\n",
            "\n",
            "DataFrame after One-Hot Encoding:\n",
            "   Temperature  City_Chicago  City_New York  City_San Francisco  Rain_No  \\\n",
            "0           32         False           True               False    False   \n",
            "1           70         False          False                True     True   \n",
            "2           65          True          False               False     True   \n",
            "3           32         False           True               False    False   \n",
            "\n",
            "   Rain_Yes  \n",
            "0      True  \n",
            "1     False  \n",
            "2     False  \n",
            "3      True  \n"
          ]
        }
      ],
      "source": [
        "import pandas as pd\n",
        "\n",
        "def one_hot_encoding(data, categorical_columns):\n",
        "    # Indent the return statement within the function definition\n",
        "    return pd.get_dummies(data, columns=categorical_columns)\n",
        "\n",
        "data = {\n",
        "    'City': ['New York', 'San Francisco', 'Chicago', 'New York'],\n",
        "    'Temperature': [32, 70, 65, 32],\n",
        "    'Rain': ['Yes', 'No', 'No', 'Yes']\n",
        "}\n",
        "df = pd.DataFrame(data)\n",
        "categorical_columns = ['City', 'Rain']\n",
        "encoded_df = one_hot_encoding(df, categorical_columns)\n",
        "print(\"Original DataFrame:\")\n",
        "print(df)\n",
        "print(\"\\nDataFrame after One-Hot Encoding:\")\n",
        "print(encoded_df)"
      ]
    }
  ]
}