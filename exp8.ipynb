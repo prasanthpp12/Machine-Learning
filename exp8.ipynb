{
  "nbformat": 4,
  "nbformat_minor": 0,
  "metadata": {
    "colab": {
      "provenance": []
    },
    "kernelspec": {
      "name": "python3",
      "display_name": "Python 3"
    },
    "language_info": {
      "name": "python"
    }
  },
  "cells": [
    {
      "cell_type": "code",
      "execution_count": 9,
      "metadata": {
        "colab": {
          "base_uri": "https://localhost:8080/"
        },
        "id": "Gt8wwFVCakVI",
        "outputId": "9ff7454f-7c10-45de-f4f9-db3ffa3f39e6"
      },
      "outputs": [
        {
          "output_type": "stream",
          "name": "stdout",
          "text": [
            "Total Correct Predictions: 20\n",
            "Total Wrong Predictions: 0\n",
            "Accuracy: 100.00%\n"
          ]
        }
      ],
      "source": [
        "import numpy as np\n",
        "from sklearn.datasets import make_classification\n",
        "from sklearn.model_selection import train_test_split\n",
        "from sklearn.metrics import accuracy_score\n",
        "\n",
        "class KNN:\n",
        "    def __init__(self, k=3): # Corrected the method name to __init__\n",
        "        self.k = k\n",
        "\n",
        "    def fit(self, X_train, y_train):\n",
        "        self.X_train = X_train\n",
        "        self.y_train = y_train\n",
        "\n",
        "    def predict(self, X_test):\n",
        "        predictions = []\n",
        "        for test_point in X_test:\n",
        "            distances = np.linalg.norm(self.X_train - test_point, axis=1)\n",
        "            sorted_indices = np.argsort(distances)\n",
        "            k_nearest_labels = self.y_train[sorted_indices[:self.k]]\n",
        "            unique_labels, counts = np.unique(k_nearest_labels, return_counts=True)\n",
        "            predicted_label = unique_labels[np.argmax(counts)]\n",
        "            predictions.append(predicted_label)\n",
        "        return np.array(predictions)\n",
        "\n",
        "X, y = make_classification(n_samples=100, n_features=2, n_classes=2,\n",
        "                           n_clusters_per_class=1, n_redundant=0, random_state=42)\n",
        "X_train, X_test, y_train, y_test = train_test_split(X, y, test_size=0.2, random_state=42)\n",
        "knn = KNN(k=3)\n",
        "knn.fit(X_train, y_train)\n",
        "predictions = knn.predict(X_test)\n",
        "correct_predictions = np.sum(predictions == y_test)\n",
        "wrong_predictions = len(y_test) - correct_predictions\n",
        "accuracy = accuracy_score(y_test, predictions)\n",
        "print(f'Total Correct Predictions: {correct_predictions}')\n",
        "print(f'Total Wrong Predictions: {wrong_predictions}')\n",
        "print(f'Accuracy: {accuracy * 100:.2f}%')"
      ]
    }
  ]
}