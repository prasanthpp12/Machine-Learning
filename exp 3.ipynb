{
  "nbformat": 4,
  "nbformat_minor": 0,
  "metadata": {
    "colab": {
      "provenance": []
    },
    "kernelspec": {
      "name": "python3",
      "display_name": "Python 3"
    },
    "language_info": {
      "name": "python"
    }
  },
  "cells": [
    {
      "cell_type": "code",
      "execution_count": 21,
      "metadata": {
        "colab": {
          "base_uri": "https://localhost:8080/"
        },
        "id": "Gt8wwFVCakVI",
        "outputId": "f1e1f965-1e20-4bb2-fb7e-c4684d074170"
      },
      "outputs": [
        {
          "output_type": "stream",
          "name": "stdout",
          "text": [
            "{'outlook': {'overcast': 'yes', 'rainy': {'windy': {np.False_: 'yes', np.True_: 'no'}}, 'sunny': {'humidity': {'high': 'no', 'normal': 'yes'}}}}\n"
          ]
        },
        {
          "output_type": "stream",
          "name": "stderr",
          "text": [
            "<ipython-input-21-1dfd29677b73>:12: DeprecationWarning: Calling np.sum(generator) is deprecated, and in the future will give a different result. Use np.sum(np.fromiter(generator)) or the python sum builtin instead.\n",
            "  weighted_entropy = np.sum((counts[i] / np.sum(counts) *\n"
          ]
        }
      ],
      "source": [
        "import pandas as pd\n",
        "import numpy as np\n",
        "\n",
        "def entropy(target):\n",
        "    values, counts = np.unique(target, return_counts=True)\n",
        "    probabilities = counts / len(target)\n",
        "    return -np.sum(probabilities * np.log2(probabilities))\n",
        "\n",
        "def information_gain(data, attribute, target_name):\n",
        "    total_entropy = entropy(data[target_name])\n",
        "    values, counts = np.unique(data[attribute], return_counts=True)\n",
        "    weighted_entropy = np.sum((counts[i] / np.sum(counts) *\n",
        "                              entropy(data[data[attribute] == values[i]][target_name]))\n",
        "                             for i in range(len(values)))\n",
        "    return total_entropy - weighted_entropy\n",
        "\n",
        "def id3(data, target_name, attributes):\n",
        "    if len(np.unique(data[target_name])) == 1:\n",
        "        return np.unique(data[target_name])[0]\n",
        "    if len(attributes) == 0:\n",
        "        return data[target_name].mode()[0]\n",
        "    gains = [information_gain(data, attr, target_name) for attr in attributes]\n",
        "    best_attr = attributes[np.argmax(gains)]\n",
        "    tree = {best_attr: {}}\n",
        "    values = np.unique(data[best_attr])\n",
        "    for value in values:\n",
        "        subset = data[data[best_attr] == value]\n",
        "        subtree = id3(subset, target_name, [attr for attr in attributes if attr != best_attr])\n",
        "        tree[best_attr][value] = subtree\n",
        "    return tree\n",
        "\n",
        "file_path = '/content/tennis.csv'\n",
        "data = pd.read_csv(file_path)\n",
        "target_name = data.columns[-1]\n",
        "attributes = list(data.columns[:-1])\n",
        "decision_tree = id3(data, target_name, attributes)\n",
        "print(decision_tree)"
      ]
    }
  ]
}