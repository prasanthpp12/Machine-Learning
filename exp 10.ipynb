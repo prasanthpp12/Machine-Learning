{
  "nbformat": 4,
  "nbformat_minor": 0,
  "metadata": {
    "colab": {
      "provenance": []
    },
    "kernelspec": {
      "name": "python3",
      "display_name": "Python 3"
    },
    "language_info": {
      "name": "python"
    }
  },
  "cells": [
    {
      "cell_type": "code",
      "execution_count": 13,
      "metadata": {
        "colab": {
          "base_uri": "https://localhost:8080/"
        },
        "id": "Gt8wwFVCakVI",
        "outputId": "6632753a-6981-488d-9a00-f7862c75b325"
      },
      "outputs": [
        {
          "output_type": "stream",
          "name": "stdout",
          "text": [
            "Accuracy: 0.575\n",
            "\n",
            "Classification Report:\n",
            "               precision    recall  f1-score   support\n",
            "\n",
            "      Female       0.57      0.76      0.65        21\n",
            "        Male       0.58      0.37      0.45        19\n",
            "\n",
            "    accuracy                           0.57        40\n",
            "   macro avg       0.58      0.57      0.55        40\n",
            "weighted avg       0.58      0.57      0.56        40\n",
            "\n",
            "Accuracy: 0.0\n",
            "\n",
            "Classification Report:\n",
            "               precision    recall  f1-score   support\n",
            "\n",
            "           1       0.00      0.00      0.00       1.0\n",
            "          11       0.00      0.00      0.00       1.0\n",
            "          13       0.00      0.00      0.00       2.0\n",
            "          14       0.00      0.00      0.00       0.0\n",
            "          15       0.00      0.00      0.00       1.0\n",
            "          17       0.00      0.00      0.00       1.0\n",
            "          20       0.00      0.00      0.00       1.0\n",
            "          22       0.00      0.00      0.00       1.0\n",
            "          24       0.00      0.00      0.00       1.0\n",
            "          26       0.00      0.00      0.00       1.0\n",
            "          29       0.00      0.00      0.00       2.0\n",
            "          34       0.00      0.00      0.00       1.0\n",
            "          35       0.00      0.00      0.00       1.0\n",
            "           4       0.00      0.00      0.00       1.0\n",
            "          40       0.00      0.00      0.00       1.0\n",
            "          41       0.00      0.00      0.00       2.0\n",
            "          42       0.00      0.00      0.00       0.0\n",
            "          46       0.00      0.00      0.00       0.0\n",
            "          47       0.00      0.00      0.00       1.0\n",
            "          48       0.00      0.00      0.00       1.0\n",
            "           5       0.00      0.00      0.00       0.0\n",
            "          50       0.00      0.00      0.00       3.0\n",
            "          52       0.00      0.00      0.00       2.0\n",
            "          53       0.00      0.00      0.00       1.0\n",
            "          54       0.00      0.00      0.00       1.0\n",
            "          55       0.00      0.00      0.00       0.0\n",
            "          56       0.00      0.00      0.00       2.0\n",
            "          57       0.00      0.00      0.00       1.0\n",
            "          59       0.00      0.00      0.00       2.0\n",
            "          65       0.00      0.00      0.00       1.0\n",
            "          69       0.00      0.00      0.00       1.0\n",
            "          72       0.00      0.00      0.00       1.0\n",
            "          73       0.00      0.00      0.00       1.0\n",
            "          75       0.00      0.00      0.00       1.0\n",
            "          77       0.00      0.00      0.00       1.0\n",
            "          79       0.00      0.00      0.00       1.0\n",
            "          88       0.00      0.00      0.00       1.0\n",
            "\n",
            "    accuracy                           0.00      40.0\n",
            "   macro avg       0.00      0.00      0.00      40.0\n",
            "weighted avg       0.00      0.00      0.00      40.0\n",
            "\n"
          ]
        },
        {
          "output_type": "stream",
          "name": "stderr",
          "text": [
            "/usr/local/lib/python3.11/dist-packages/sklearn/metrics/_classification.py:1565: UndefinedMetricWarning: Precision is ill-defined and being set to 0.0 in labels with no predicted samples. Use `zero_division` parameter to control this behavior.\n",
            "  _warn_prf(average, modifier, f\"{metric.capitalize()} is\", len(result))\n",
            "/usr/local/lib/python3.11/dist-packages/sklearn/metrics/_classification.py:1565: UndefinedMetricWarning: Recall is ill-defined and being set to 0.0 in labels with no true samples. Use `zero_division` parameter to control this behavior.\n",
            "  _warn_prf(average, modifier, f\"{metric.capitalize()} is\", len(result))\n",
            "/usr/local/lib/python3.11/dist-packages/sklearn/metrics/_classification.py:1565: UndefinedMetricWarning: Precision is ill-defined and being set to 0.0 in labels with no predicted samples. Use `zero_division` parameter to control this behavior.\n",
            "  _warn_prf(average, modifier, f\"{metric.capitalize()} is\", len(result))\n",
            "/usr/local/lib/python3.11/dist-packages/sklearn/metrics/_classification.py:1565: UndefinedMetricWarning: Recall is ill-defined and being set to 0.0 in labels with no true samples. Use `zero_division` parameter to control this behavior.\n",
            "  _warn_prf(average, modifier, f\"{metric.capitalize()} is\", len(result))\n",
            "/usr/local/lib/python3.11/dist-packages/sklearn/metrics/_classification.py:1565: UndefinedMetricWarning: Precision is ill-defined and being set to 0.0 in labels with no predicted samples. Use `zero_division` parameter to control this behavior.\n",
            "  _warn_prf(average, modifier, f\"{metric.capitalize()} is\", len(result))\n",
            "/usr/local/lib/python3.11/dist-packages/sklearn/metrics/_classification.py:1565: UndefinedMetricWarning: Recall is ill-defined and being set to 0.0 in labels with no true samples. Use `zero_division` parameter to control this behavior.\n",
            "  _warn_prf(average, modifier, f\"{metric.capitalize()} is\", len(result))\n"
          ]
        }
      ],
      "source": [
        "import numpy as np\n",
        "import pandas as pd\n",
        "from sklearn.model_selection import train_test_split\n",
        "from sklearn.feature_extraction.text import CountVectorizer\n",
        "from sklearn.naive_bayes import MultinomialNB\n",
        "from sklearn.metrics import accuracy_score, classification_report\n",
        "\n",
        "df = pd.read_csv(\"Mall_Customers.csv\")\n",
        "# Assuming 'Gender' is the target variable, replace 'Genre' with 'Gender'\n",
        "X = df['Annual Income (k$)'].astype(str) + ' ' + df['Spending Score (1-100)'].astype(str)\n",
        "y = df['Gender'].astype(str)  # Changed 'Genre' to 'Gender'\n",
        "X_train, X_test, y_train, y_test = train_test_split(X, y, test_size=0.2, random_state=42)\n",
        "vectorizer = CountVectorizer()\n",
        "X_train_vectorized = vectorizer.fit_transform(X_train)\n",
        "X_test_vectorized = vectorizer.transform(X_test)\n",
        "nb_classifier = MultinomialNB()\n",
        "nb_classifier.fit(X_train_vectorized, y_train)\n",
        "y_pred = nb_classifier.predict(X_test_vectorized)\n",
        "accuracy = accuracy_score(y_test, y_pred)\n",
        "report = classification_report(y_test, y_pred)\n",
        "print(\"Accuracy:\", accuracy)\n",
        "print(\"\\nClassification Report:\\n\", report)\n",
        "\n",
        "# For the second part, if 'text' and 'label' are also not present in df\n",
        "# you need to replace them with actual column names from your dataset.\n",
        "# Assuming 'Annual Income (k$)' is 'text' and 'Spending Score (1-100)' is 'label'\n",
        "X = df['Annual Income (k$)'].astype(str)  # Changed 'text' to 'Annual Income (k$)'\n",
        "y = df['Spending Score (1-100)'].astype(str)  # Changed 'label' to 'Spending Score (1-100)'\n",
        "X_train, X_test, y_train, y_test = train_test_split(X, y, test_size=0.2, random_state=42)\n",
        "vectorizer = CountVectorizer()\n",
        "X_train_vectorized = vectorizer.fit_transform(X_train)\n",
        "X_test_vectorized = vectorizer.transform(X_test)\n",
        "\n",
        "nb_classifier = MultinomialNB()\n",
        "nb_classifier.fit(X_train_vectorized, y_train)\n",
        "\n",
        "y_pred = nb_classifier.predict(X_test_vectorized)\n",
        "\n",
        "accuracy = accuracy_score(y_test, y_pred)\n",
        "report = classification_report(y_test, y_pred)\n",
        "\n",
        "print(\"Accuracy:\", accuracy)\n",
        "print(\"\\nClassification Report:\\n\", report)"
      ]
    }
  ]
}