{
  "nbformat": 4,
  "nbformat_minor": 0,
  "metadata": {
    "colab": {
      "provenance": []
    },
    "kernelspec": {
      "name": "python3",
      "display_name": "Python 3"
    },
    "language_info": {
      "name": "python"
    }
  },
  "cells": [
    {
      "cell_type": "code",
      "execution_count": 10,
      "metadata": {
        "colab": {
          "base_uri": "https://localhost:8080/"
        },
        "id": "f8kSHiMOIad5",
        "outputId": "c951a4c5-f234-45a6-9538-7b4639509c54"
      },
      "outputs": [
        {
          "output_type": "stream",
          "name": "stdout",
          "text": [
            "Most Specific Hypothesis: ['Φ', 'Φ', 'Φ', 'Φ']\n"
          ]
        }
      ],
      "source": [
        "import pandas as pd\n",
        "\n",
        "def find_s_algorithm(file_path):\n",
        "\n",
        "    data = pd.read_csv(\"/content/tennis.csv\")\n",
        "    attributes = data.iloc[:, :-1].values\n",
        "    target = data.iloc[:, -1].values\n",
        "    specific_hypothesis = ['Φ'] * len(attributes[0])\n",
        "    for i, example in enumerate(attributes):\n",
        "        if target[i] ==\"Yes\":\n",
        "            for j in range(len(specific_hypothesis)):\n",
        "                if specific_hypothesis[j] =='Φ':\n",
        "                    specific_hypothesis[j] = example[j]\n",
        "                elif specific_hypothesis[j] != example[j]:\n",
        "                    specific_hypothesis[j] ='?'\n",
        "    return specific_hypothesis\n",
        "\n",
        "file_path ='data.csv'\n",
        "\n",
        "specific_hypothesis = find_s_algorithm(file_path)\n",
        "print(\"Most Specific Hypothesis:\", specific_hypothesis)"
      ]
    }
  ]
}